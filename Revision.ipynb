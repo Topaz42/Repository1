{
  "nbformat": 4,
  "nbformat_minor": 0,
  "metadata": {
    "colab": {
      "provenance": [],
      "collapsed_sections": [],
      "authorship_tag": "ABX9TyPdJyURxKJ7uTG78AqDkFxF",
      "include_colab_link": true
    },
    "kernelspec": {
      "name": "python3",
      "display_name": "Python 3"
    },
    "language_info": {
      "name": "python"
    }
  },
  "cells": [
    {
      "cell_type": "markdown",
      "metadata": {
        "id": "view-in-github",
        "colab_type": "text"
      },
      "source": [
        "<a href=\"https://colab.research.google.com/github/Topaz42/Repository1/blob/main/Revision.ipynb\" target=\"_parent\"><img src=\"https://colab.research.google.com/assets/colab-badge.svg\" alt=\"Open In Colab\"/></a>"
      ]
    },
    {
      "cell_type": "code",
      "execution_count": null,
      "metadata": {
        "id": "_mmKYwHqQyv_"
      },
      "outputs": [],
      "source": [
        "import pandas as p1 \n",
        "data = (['P','R','E','M'])\n",
        "s=p1.Series(data,index= [10,11,12,13]) \n",
        "print(s) "
      ]
    },
    {
      "cell_type": "code",
      "source": [
        "#create a series from dataframe\n",
        "import pandas as pd1\n",
        "data = {'P': 0., 'R': 1., 'E': 2.,'M': 2.}\n",
        "s=pd1.Series(data,index=['b','c','d','a'])\n",
        "print(s)\n"
      ],
      "metadata": {
        "id": "AATeNNk8uviz"
      },
      "execution_count": null,
      "outputs": []
    },
    {
      "cell_type": "code",
      "source": [
        "import pandas as pd\n",
        "l1={'P': 0, 'R': 1, 'E': 2,'M': 3} \n",
        "df=pd.DataFrame(l1,index=[9,8,7,6])\n",
        "print(df)\n"
      ],
      "metadata": {
        "id": "f_wf3Unqp9Yl"
      },
      "execution_count": null,
      "outputs": []
    },
    {
      "cell_type": "code",
      "source": [
        "#scalar value\n",
        "import pandas as pd1\n",
        "s = pd1.Series(5, index=[0, 1, 2, 3])\n",
        "print(s) "
      ],
      "metadata": {
        "id": "dZ8ORUdFuXO0"
      },
      "execution_count": null,
      "outputs": []
    },
    {
      "cell_type": "code",
      "source": [
        "#adding and multiplying series\n",
        "import pandas as pd\n",
        "s = pd.Series([1, 2, 3]) \n",
        "t = pd.Series ([1, 2, 4]) \n",
        "u1=s+t #addition operation \n",
        "u2=s*t # multiplication operation\n",
        "print(u1) \n",
        "print(u2)"
      ],
      "metadata": {
        "id": "zFmEwMM20YNB"
      },
      "execution_count": null,
      "outputs": []
    },
    {
      "cell_type": "code",
      "source": [
        "#heads and tails function\n",
        "import pandas as pd1\n",
        "s=pd1.Series([1, 2, 3, 4, 5],index =['a','b','c','d','e'])\n",
        "print (s.head (3))#only first 3\n",
        "print (s.tail (3)) #only last 3\n",
        "\n",
        "print (s.head (-3))#all except last 3\n",
        "print (s.tail (-3)) #all except first 3"
      ],
      "metadata": {
        "id": "MMKsRvDI1AfY"
      },
      "execution_count": null,
      "outputs": []
    },
    {
      "cell_type": "code",
      "source": [
        "#acessing data: indexing and slicing  \n",
        "import pandas as pd1\n",
        "s = pd1.Series([1, 2, 3, 4, 5],index = ['p','r','e','m','e'])\n",
        "print(s)\n",
        "\n",
        "print (s[0]) # for 0 index position Marks\n",
        "print('*************')\n",
        "print (s[:3]) #for first 3 index values\n",
        "print (s[1:-3])\n",
        "print (s[-3:])  # slicing for last 3 index values\n",
        "print (s[::2]) #range is of 2"
      ],
      "metadata": {
        "id": "BusB_xUgC6Ye"
      },
      "execution_count": null,
      "outputs": []
    },
    {
      "cell_type": "code",
      "source": [
        "import pandas as pd\n",
        "s= pd.Series ([49,48,47,46,45, 1, 2, 3, 4, 5]) \n",
        "print(s.iloc[:3]) # slice the first three rows"
      ],
      "metadata": {
        "id": "Dy1oqa-3EkjB"
      },
      "execution_count": null,
      "outputs": []
    },
    {
      "cell_type": "code",
      "source": [
        "#Dataframe From Lists\n",
        "import pandas as pd1\n",
        "data1 = [['Freya',10],['Mohak',12],['Dwivedi',13]]\n",
        "df1 = pd1.DataFrame(data1,columns=['Name','Age']) \n",
        "print (df1)"
      ],
      "metadata": {
        "colab": {
          "base_uri": "https://localhost:8080/"
        },
        "id": "QW-wcYdFW6Yk",
        "outputId": "58303e4f-9ca1-44cd-a8ab-8773848734eb"
      },
      "execution_count": null,
      "outputs": [
        {
          "output_type": "stream",
          "name": "stdout",
          "text": [
            "      Name  Age\n",
            "0    Freya   10\n",
            "1    Mohak   12\n",
            "2  Dwivedi   13\n"
          ]
        }
      ]
    },
    {
      "cell_type": "code",
      "source": [
        "#Create a DataFrame from Dictionary of Lists\n",
        "import pandas as pd\n",
        "data1 = {'Name': ['Freya','Mohak'],'Age':[9,10]}\n",
        "df = pd.DataFrame(data1) \n",
        "print (df)\n"
      ],
      "metadata": {
        "colab": {
          "base_uri": "https://localhost:8080/"
        },
        "id": "ohVh6ldtYDMN",
        "outputId": "5e4d2610-3a49-4b87-ed24-6b15419c3a13"
      },
      "execution_count": null,
      "outputs": [
        {
          "output_type": "stream",
          "name": "stdout",
          "text": [
            "    Name  Age\n",
            "0  Freya    9\n",
            "1  Mohak   10\n"
          ]
        }
      ]
    },
    {
      "cell_type": "code",
      "source": [
        "#Create a DataFrame from List of Dictionaries\n",
        "import pandas as pd \n",
        "l1 = [{'x': 1, 'y': 2}, {'x': 5, 'y': 4}]\n",
        "df = pd.DataFrame(l1)\n",
        "print (df) "
      ],
      "metadata": {
        "colab": {
          "base_uri": "https://localhost:8080/"
        },
        "id": "0t00cwxKXkaH",
        "outputId": "d6ffa84b-72fa-4147-fcc7-57aa664b2ab5"
      },
      "execution_count": null,
      "outputs": [
        {
          "output_type": "stream",
          "name": "stdout",
          "text": [
            "   x  y\n",
            "0  1  2\n",
            "1  5  4\n"
          ]
        }
      ]
    },
    {
      "cell_type": "code",
      "source": [
        "#Create a DataFrame from Dict of Series \n",
        "import pandas as pd \n",
        "d1={'series1': pd.Series([1, 2, 3, 4], index= ['a','b', 'c','d']),\n",
        "    'series2': pd.Series([10, 20, 30, 40], index= ['a', 'b','c', 'd'])}\n",
        "df=pd.DataFrame(d1) \n",
        "print(df)"
      ],
      "metadata": {
        "colab": {
          "base_uri": "https://localhost:8080/"
        },
        "id": "PQw7Lkhtecgz",
        "outputId": "7d9317c5-733a-446d-8019-8c198be5e8d5"
      },
      "execution_count": null,
      "outputs": [
        {
          "output_type": "stream",
          "name": "stdout",
          "text": [
            "   series1  series2\n",
            "a        1       10\n",
            "b        2       20\n",
            "c        3       30\n",
            "d        4       40\n"
          ]
        }
      ]
    },
    {
      "cell_type": "code",
      "source": [
        "#Creating a dataframe from Dictionary of Series\n",
        "import pandas as pd \n",
        "l1 = [{'x': 1, 'y': 2}, {'x': 5, 'y': 4}]\n",
        "df = pd.DataFrame(l1)\n",
        "print (df) \n",
        "print ('*******')\n",
        "#Selecting a column\n",
        "print (df ['x']) \n"
      ],
      "metadata": {
        "colab": {
          "base_uri": "https://localhost:8080/"
        },
        "id": "rysEE-ZEgIcy",
        "outputId": "6ab9e1fd-59dc-4421-d119-67d92bf5467e"
      },
      "execution_count": null,
      "outputs": [
        {
          "output_type": "stream",
          "name": "stdout",
          "text": [
            "   x  y\n",
            "0  1  2\n",
            "1  5  4\n",
            "*******\n",
            "0    1\n",
            "1    5\n",
            "Name: x, dtype: int64\n"
          ]
        }
      ]
    },
    {
      "cell_type": "code",
      "source": [
        "#Adding a new column\n",
        "df=pd.DataFrame({\"A\": [1, 2, 3], \"B\": [4, 5, 6]})\n",
        "\n",
        "# Declare a list that is to be converted into a column\n",
        "new_list=[7,8,9] \n",
        "# Using 'Address' as the column name\n",
        "# and equating it to the list\n",
        "df['C']=new_list\n",
        "\n",
        "#Adding a new column by using the other columns\n",
        "df['D']=df['A']+df['B']+df['C']\n",
        "\n",
        "print(df)"
      ],
      "metadata": {
        "colab": {
          "base_uri": "https://localhost:8080/"
        },
        "id": "l_nqY0cIvX0S",
        "outputId": "db6f00c3-c062-4c1d-c3dd-15182c037333"
      },
      "execution_count": null,
      "outputs": [
        {
          "output_type": "stream",
          "name": "stdout",
          "text": [
            "   A  B  C   D\n",
            "0  1  4  7  12\n",
            "1  2  5  8  15\n",
            "2  3  6  9  18\n"
          ]
        }
      ]
    },
    {
      "cell_type": "code",
      "source": [
        "#Deleting a Column\n",
        "import pandas as pd\n",
        "df=pd.DataFrame({\"A\": [1, 2, 3], \"B\": [4, 5, 6]})\n",
        "del df['A']\n",
        "df.pop('B')\n",
        "print(df)"
      ],
      "metadata": {
        "colab": {
          "base_uri": "https://localhost:8080/"
        },
        "id": "mumM6FEJx7hJ",
        "outputId": "0ebcf16c-4587-4aad-d006-6419f0d4c8d0"
      },
      "execution_count": null,
      "outputs": [
        {
          "output_type": "stream",
          "name": "stdout",
          "text": [
            "Empty DataFrame\n",
            "Columns: []\n",
            "Index: [0, 1, 2]\n"
          ]
        }
      ]
    },
    {
      "cell_type": "code",
      "source": [
        "#Renaming a column\n",
        "import pandas as pd\n",
        "df=pd.DataFrame({\"A\": [1, 2, 3], \"B\": [4, 5, 6]})\n",
        "print(df.rename(columns= {\"A\": \"X\", \"B\": \"Y\"})) \n"
      ],
      "metadata": {
        "colab": {
          "base_uri": "https://localhost:8080/"
        },
        "id": "HLCir0jYzfMh",
        "outputId": "a917be53-01fa-42a0-9b17-83a9f4d3404d"
      },
      "execution_count": null,
      "outputs": [
        {
          "output_type": "stream",
          "name": "stdout",
          "text": [
            "   X  Y\n",
            "0  1  4\n",
            "1  2  5\n",
            "2  3  6\n"
          ]
        }
      ]
    },
    {
      "cell_type": "code",
      "source": [
        "#Selection by Label\n",
        "import pandas as pd\n",
        "d1 = {'one': pd.Series([1, 2, 2], index= ['A', 'B','C']),\n",
        "      'two': pd.Series([10, 20, 30], index= ['A', 'B', 'C'])}\n",
        "df=pd.DataFrame(d1)\n",
        "\n",
        "print(df)\n",
        "\n",
        "print(df.loc['A':'B'])#name of index from that row\n",
        "\n",
        "print(df.iloc[0])#index-value of that row\n",
        "\n",
        "print(df.iloc[0:3:2])#index-value of that row with range\n",
        "\n"
      ],
      "metadata": {
        "colab": {
          "base_uri": "https://localhost:8080/"
        },
        "id": "VbfmhKZ25czo",
        "outputId": "f1553de9-0c59-48ca-95f5-09dbc987ee4d"
      },
      "execution_count": null,
      "outputs": [
        {
          "output_type": "stream",
          "name": "stdout",
          "text": [
            "   one  two\n",
            "A    1   10\n",
            "B    2   20\n",
            "C    2   30\n",
            "   one  two\n",
            "A    1   10\n",
            "B    2   20\n",
            "one     1\n",
            "two    10\n",
            "Name: A, dtype: int64\n",
            "   one  two\n",
            "A    1   10\n",
            "C    2   30\n"
          ]
        }
      ]
    },
    {
      "cell_type": "code",
      "source": [
        "#Addition of Rows\n",
        "import pandas as pd\n",
        "df1 = pd.DataFrame([[1, 2], [3, 4]],index = ['a', 'b'])\n",
        "df2 = pd.DataFrame([[5, 6], [7, 8]],index = ['a', 'b'])\n",
        "df1 = df.append(df2)\n",
        "print(df1)\n"
      ],
      "metadata": {
        "colab": {
          "base_uri": "https://localhost:8080/"
        },
        "id": "6iy9YdlP8fH_",
        "outputId": "99e4d664-988f-4079-a96b-097a75b6f461"
      },
      "execution_count": null,
      "outputs": [
        {
          "output_type": "stream",
          "name": "stdout",
          "text": [
            "   one   two    0    1\n",
            "A  1.0  10.0  NaN  NaN\n",
            "B  2.0  20.0  NaN  NaN\n",
            "C  2.0  30.0  NaN  NaN\n",
            "a  NaN   NaN  5.0  6.0\n",
            "b  NaN   NaN  7.0  8.0\n"
          ]
        }
      ]
    },
    {
      "cell_type": "code",
      "source": [
        "#Iterate over rows in a DataFrame \n",
        "import pandas as pd1\n",
        "raw_data1 = {'name': ['freya', 'mohak'],'age': [10, 1],'favorite_color': ['pink', 'blue'], 'grade': [88, 92]}\n",
        "df1 = pd1.DataFrame(raw_data1, columns = ['name', 'age','favorite_color', 'grade'])\n",
        "for index, row in df1.iterrows():\n",
        "  print(row[\"name\"],row[\"age\"])\n",
        "\n"
      ],
      "metadata": {
        "colab": {
          "base_uri": "https://localhost:8080/"
        },
        "id": "gqfTBFEeKdw0",
        "outputId": "1ff536ab-36d7-4fe3-f6ca-f178c0174eaa"
      },
      "execution_count": null,
      "outputs": [
        {
          "output_type": "stream",
          "name": "stdout",
          "text": [
            "freya 10\n",
            "mohak 1\n"
          ]
        }
      ]
    },
    {
      "cell_type": "code",
      "source": [
        "#Indexing a DataFrame using .loc[ ]: ????????????\n",
        "import pandas as pd\n",
        "df = pd.DataFrame((8, 4), index= ['a', 'b', 'c', 'd', 'e', 'f', 'g', 'h'], columns = ['A', 'B','C', 'D'])\n",
        "\n",
        "print(df.loc[:'A'])\n",
        "\n"
      ],
      "metadata": {
        "id": "bpFP0WhaXlZr"
      },
      "execution_count": null,
      "outputs": []
    },
    {
      "cell_type": "code",
      "source": [
        "#Accessing a DataFrame with a Boolean Index\n",
        "import pandas as pd \n",
        "dict = {'name': ['Mohak', 'Freya', 'Roshni'],'degree': [\"MBA\", \"BCA\", 'M.Tech'],'score': [90, 40, 80]}\n",
        "\n",
        "# creating a dataframe with boolean index\n",
        "df = pd.DataFrame(dict, index = [True, False, True])\n",
        "\n",
        "#it will return rows of Mohak and Roshni only (matching true only)\n",
        "print(df.loc [True])"
      ],
      "metadata": {
        "id": "3Ghhnms0YYg5"
      },
      "execution_count": null,
      "outputs": []
    },
    {
      "cell_type": "code",
      "source": [
        "#Binary operation over dataframe with series\n",
        "df = pd.DataFrame({0: [1,2,3],1: [4,5,6], 2: [7,8,9] }) \n",
        "s1 = pd.Series([1, 2, 3])\n",
        "new_x = df.add(s1, axis=0)\n",
        "print(new_x) \n"
      ],
      "metadata": {
        "id": "sEJL8zeWZN5L"
      },
      "execution_count": null,
      "outputs": []
    },
    {
      "cell_type": "code",
      "source": [
        "#Export Pandas DataFrame to a CSV File\n",
        "import pandas as pd \n",
        "d1 = {'Brand': ['Honda Civic','Toyota Corolla', 'Ford Focus','AudiA4'],'Price': [22000,25000,27000,35000]}\n",
        "df = pd.DataFrame(d1)\n",
        "\n",
        "df.to_csv ('D:\\export_dataframe.csv')\n",
        "\n",
        "print (df) #csv file will be created in specified file location with specified name"
      ],
      "metadata": {
        "id": "cXdx2nuYaXH4"
      },
      "execution_count": null,
      "outputs": []
    },
    {
      "cell_type": "code",
      "source": [
        "#read_csv function: \n",
        "import pandas as pd \n",
        "data = pd.read_csv(\"D:\\export_dataframe.csv\") \n",
        "print(data) \n",
        "\n",
        "\n"
      ],
      "metadata": {
        "colab": {
          "base_uri": "https://localhost:8080/"
        },
        "id": "ZvuZHV7FbLx4",
        "outputId": "50d27263-6894-43ac-fd54-0a12ce9be9dc"
      },
      "execution_count": null,
      "outputs": [
        {
          "output_type": "stream",
          "name": "stdout",
          "text": [
            "   Unnamed: 0           Brand  Price\n",
            "0           0     Honda Civic  22000\n",
            "1           1  Toyota Corolla  25000\n",
            "2           2      Ford Focus  27000\n",
            "3           3          AudiA4  35000\n"
          ]
        }
      ]
    },
    {
      "cell_type": "code",
      "source": [],
      "metadata": {
        "id": "QcPy3ubPf00C"
      },
      "execution_count": null,
      "outputs": []
    }
  ]
}